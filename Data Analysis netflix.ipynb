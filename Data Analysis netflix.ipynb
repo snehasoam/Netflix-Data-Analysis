{
 "cells": [
  {
   "cell_type": "code",
   "execution_count": 3,
   "id": "b2b5f976-38fb-4cda-82b9-73c273da8216",
   "metadata": {},
   "outputs": [],
   "source": [
    "import numpy as np\n",
    "import pandas as pd\n",
    "import matplotlib.pyplot as plt\n",
    "import seaborn as sns\n"
   ]
  },
  {
   "cell_type": "code",
   "execution_count": 4,
   "id": "28c23577-d199-4dcd-83cf-342d6ad00a0e",
   "metadata": {},
   "outputs": [],
   "source": [
    "df=pd.read_csv('netflix_titles.csv',lineterminator = '\\n')\n",
    "\n"
   ]
  },
  {
   "cell_type": "code",
   "execution_count": 5,
   "id": "5bdda558-b9e1-49b8-bd17-ccdbe105f8b3",
   "metadata": {},
   "outputs": [
    {
     "data": {
      "text/html": [
       "<div>\n",
       "<style scoped>\n",
       "    .dataframe tbody tr th:only-of-type {\n",
       "        vertical-align: middle;\n",
       "    }\n",
       "\n",
       "    .dataframe tbody tr th {\n",
       "        vertical-align: top;\n",
       "    }\n",
       "\n",
       "    .dataframe thead th {\n",
       "        text-align: right;\n",
       "    }\n",
       "</style>\n",
       "<table border=\"1\" class=\"dataframe\">\n",
       "  <thead>\n",
       "    <tr style=\"text-align: right;\">\n",
       "      <th></th>\n",
       "      <th>show_id</th>\n",
       "      <th>type</th>\n",
       "      <th>title</th>\n",
       "      <th>director</th>\n",
       "      <th>cast</th>\n",
       "      <th>country</th>\n",
       "      <th>date_added</th>\n",
       "      <th>release_year</th>\n",
       "      <th>rating</th>\n",
       "      <th>duration</th>\n",
       "      <th>listed_in</th>\n",
       "      <th>description\\r</th>\n",
       "    </tr>\n",
       "  </thead>\n",
       "  <tbody>\n",
       "    <tr>\n",
       "      <th>0</th>\n",
       "      <td>81145628</td>\n",
       "      <td>Movie</td>\n",
       "      <td>Norm of the North: King Sized Adventure</td>\n",
       "      <td>Richard Finn, Tim Maltby</td>\n",
       "      <td>Alan Marriott, Andrew Toth, Brian Dobson, Cole...</td>\n",
       "      <td>United States, India, South Korea, China</td>\n",
       "      <td>September 9, 2019</td>\n",
       "      <td>2019</td>\n",
       "      <td>TV-PG</td>\n",
       "      <td>90 min</td>\n",
       "      <td>Children &amp; Family Movies, Comedies</td>\n",
       "      <td>Before planning an awesome wedding for his gra...</td>\n",
       "    </tr>\n",
       "    <tr>\n",
       "      <th>1</th>\n",
       "      <td>80117401</td>\n",
       "      <td>Movie</td>\n",
       "      <td>Jandino: Whatever it Takes</td>\n",
       "      <td>NaN</td>\n",
       "      <td>Jandino Asporaat</td>\n",
       "      <td>United Kingdom</td>\n",
       "      <td>September 9, 2016</td>\n",
       "      <td>2016</td>\n",
       "      <td>TV-MA</td>\n",
       "      <td>94 min</td>\n",
       "      <td>Stand-Up Comedy</td>\n",
       "      <td>Jandino Asporaat riffs on the challenges of ra...</td>\n",
       "    </tr>\n",
       "    <tr>\n",
       "      <th>2</th>\n",
       "      <td>70234439</td>\n",
       "      <td>TV Show</td>\n",
       "      <td>Transformers Prime</td>\n",
       "      <td>NaN</td>\n",
       "      <td>Peter Cullen, Sumalee Montano, Frank Welker, J...</td>\n",
       "      <td>United States</td>\n",
       "      <td>September 8, 2018</td>\n",
       "      <td>2013</td>\n",
       "      <td>TV-Y7-FV</td>\n",
       "      <td>1 Season</td>\n",
       "      <td>Kids' TV</td>\n",
       "      <td>With the help of three human allies, the Autob...</td>\n",
       "    </tr>\n",
       "    <tr>\n",
       "      <th>3</th>\n",
       "      <td>80058654</td>\n",
       "      <td>TV Show</td>\n",
       "      <td>Transformers: Robots in Disguise</td>\n",
       "      <td>NaN</td>\n",
       "      <td>Will Friedle, Darren Criss, Constance Zimmer, ...</td>\n",
       "      <td>United States</td>\n",
       "      <td>September 8, 2018</td>\n",
       "      <td>2016</td>\n",
       "      <td>TV-Y7</td>\n",
       "      <td>1 Season</td>\n",
       "      <td>Kids' TV</td>\n",
       "      <td>When a prison ship crash unleashes hundreds of...</td>\n",
       "    </tr>\n",
       "    <tr>\n",
       "      <th>4</th>\n",
       "      <td>80125979</td>\n",
       "      <td>Movie</td>\n",
       "      <td>#realityhigh</td>\n",
       "      <td>Fernando Lebrija</td>\n",
       "      <td>Nesta Cooper, Kate Walsh, John Michael Higgins...</td>\n",
       "      <td>United States</td>\n",
       "      <td>September 8, 2017</td>\n",
       "      <td>2017</td>\n",
       "      <td>TV-14</td>\n",
       "      <td>99 min</td>\n",
       "      <td>Comedies</td>\n",
       "      <td>When nerdy high schooler Dani finally attracts...</td>\n",
       "    </tr>\n",
       "  </tbody>\n",
       "</table>\n",
       "</div>"
      ],
      "text/plain": [
       "    show_id     type                                    title  \\\n",
       "0  81145628    Movie  Norm of the North: King Sized Adventure   \n",
       "1  80117401    Movie               Jandino: Whatever it Takes   \n",
       "2  70234439  TV Show                       Transformers Prime   \n",
       "3  80058654  TV Show         Transformers: Robots in Disguise   \n",
       "4  80125979    Movie                             #realityhigh   \n",
       "\n",
       "                   director  \\\n",
       "0  Richard Finn, Tim Maltby   \n",
       "1                       NaN   \n",
       "2                       NaN   \n",
       "3                       NaN   \n",
       "4          Fernando Lebrija   \n",
       "\n",
       "                                                cast  \\\n",
       "0  Alan Marriott, Andrew Toth, Brian Dobson, Cole...   \n",
       "1                                   Jandino Asporaat   \n",
       "2  Peter Cullen, Sumalee Montano, Frank Welker, J...   \n",
       "3  Will Friedle, Darren Criss, Constance Zimmer, ...   \n",
       "4  Nesta Cooper, Kate Walsh, John Michael Higgins...   \n",
       "\n",
       "                                    country         date_added  release_year  \\\n",
       "0  United States, India, South Korea, China  September 9, 2019          2019   \n",
       "1                            United Kingdom  September 9, 2016          2016   \n",
       "2                             United States  September 8, 2018          2013   \n",
       "3                             United States  September 8, 2018          2016   \n",
       "4                             United States  September 8, 2017          2017   \n",
       "\n",
       "     rating  duration                           listed_in  \\\n",
       "0     TV-PG    90 min  Children & Family Movies, Comedies   \n",
       "1     TV-MA    94 min                     Stand-Up Comedy   \n",
       "2  TV-Y7-FV  1 Season                            Kids' TV   \n",
       "3     TV-Y7  1 Season                            Kids' TV   \n",
       "4     TV-14    99 min                            Comedies   \n",
       "\n",
       "                                       description\\r  \n",
       "0  Before planning an awesome wedding for his gra...  \n",
       "1  Jandino Asporaat riffs on the challenges of ra...  \n",
       "2  With the help of three human allies, the Autob...  \n",
       "3  When a prison ship crash unleashes hundreds of...  \n",
       "4  When nerdy high schooler Dani finally attracts...  "
      ]
     },
     "execution_count": 5,
     "metadata": {},
     "output_type": "execute_result"
    }
   ],
   "source": [
    "df.head()\n",
    "\n"
   ]
  },
  {
   "cell_type": "code",
   "execution_count": 6,
   "id": "5c870a46-44b4-4b29-aa55-102143b88c9f",
   "metadata": {
    "scrolled": true
   },
   "outputs": [
    {
     "name": "stdout",
     "output_type": "stream",
     "text": [
      "<class 'pandas.core.frame.DataFrame'>\n",
      "RangeIndex: 6234 entries, 0 to 6233\n",
      "Data columns (total 12 columns):\n",
      " #   Column        Non-Null Count  Dtype \n",
      "---  ------        --------------  ----- \n",
      " 0   show_id       6234 non-null   int64 \n",
      " 1   type          6234 non-null   object\n",
      " 2   title         6234 non-null   object\n",
      " 3   director      4265 non-null   object\n",
      " 4   cast          5664 non-null   object\n",
      " 5   country       5758 non-null   object\n",
      " 6   date_added    6223 non-null   object\n",
      " 7   release_year  6234 non-null   int64 \n",
      " 8   rating        6224 non-null   object\n",
      " 9   duration      6234 non-null   object\n",
      " 10  listed_in     6234 non-null   object\n",
      "  6234 non-null   object\n",
      "dtypes: int64(2), object(10)\n",
      "memory usage: 584.6+ KB\n"
     ]
    }
   ],
   "source": [
    "df.info()"
   ]
  },
  {
   "cell_type": "code",
   "execution_count": 9,
   "id": "660d39af-98d2-4641-8fe2-1f9d9126bb2d",
   "metadata": {},
   "outputs": [
    {
     "data": {
      "text/plain": [
       "0                      Children & Family Movies, Comedies\n",
       "1                                         Stand-Up Comedy\n",
       "2                                                Kids' TV\n",
       "3                                                Kids' TV\n",
       "4                                                Comedies\n",
       "                              ...                        \n",
       "6229    TV Action & Adventure, TV Comedies, TV Sci-Fi ...\n",
       "6230                                          TV Comedies\n",
       "6231                                               Movies\n",
       "6232             British TV Shows, TV Comedies, TV Dramas\n",
       "6233                       Classic & Cult TV, TV Comedies\n",
       "Name: listed_in, Length: 6234, dtype: object"
      ]
     },
     "execution_count": 9,
     "metadata": {},
     "output_type": "execute_result"
    }
   ],
   "source": [
    "df['listed_in'].head()\n"
   ]
  },
  {
   "cell_type": "code",
   "execution_count": 13,
   "id": "80708168-278e-4696-84c1-e6e4f06aedb8",
   "metadata": {},
   "outputs": [
    {
     "data": {
      "text/plain": [
       "np.int64(0)"
      ]
     },
     "execution_count": 13,
     "metadata": {},
     "output_type": "execute_result"
    }
   ],
   "source": [
    "df.duplicated().sum()\n"
   ]
  },
  {
   "cell_type": "code",
   "execution_count": 14,
   "id": "89131c64-ac1d-4b9b-aafd-1d7372f9c1ac",
   "metadata": {},
   "outputs": [
    {
     "name": "stdout",
     "output_type": "stream",
     "text": [
      "show_id             0\n",
      "type                0\n",
      "title               0\n",
      "director         1969\n",
      "cast              570\n",
      "country           476\n",
      "date_added         11\n",
      "release_year        0\n",
      "rating             10\n",
      "duration            0\n",
      "listed_in           0\n",
      "description\\r       0\n",
      "dtype: int64\n"
     ]
    }
   ],
   "source": [
    "print(df.isnull().sum())\n"
   ]
  },
  {
   "cell_type": "code",
   "execution_count": 15,
   "id": "1b60a31c-ce15-41ad-ad45-d7b0adfd3f36",
   "metadata": {},
   "outputs": [
    {
     "name": "stdout",
     "output_type": "stream",
     "text": [
      "Index(['show_id', 'type', 'title', 'director', 'cast', 'country', 'date_added',\n",
      "       'release_year', 'rating', 'duration', 'listed_in', 'description\\r'],\n",
      "      dtype='object')\n"
     ]
    }
   ],
   "source": [
    "print(df.columns)\n"
   ]
  },
  {
   "cell_type": "code",
   "execution_count": 17,
   "id": "4cba1957-d98c-49ae-8ba1-ac2e2996dbd8",
   "metadata": {},
   "outputs": [],
   "source": [
    "df['director'] = df['director'].fillna('Unknown')\n",
    "df['cast'] = df['cast'].fillna('Unknown')\n",
    "df['country'] = df['country'].fillna('Unknown')\n",
    "df['date_added'] = df['date_added'].fillna('Unknown')\n",
    "df['rating'] = df['rating'].fillna('Not Rated')\n"
   ]
  },
  {
   "cell_type": "code",
   "execution_count": 18,
   "id": "252a6561-216c-4e45-ab26-7eb1fd5fab7d",
   "metadata": {},
   "outputs": [
    {
     "name": "stdout",
     "output_type": "stream",
     "text": [
      "show_id          0\n",
      "type             0\n",
      "title            0\n",
      "director         0\n",
      "cast             0\n",
      "country          0\n",
      "date_added       0\n",
      "release_year     0\n",
      "rating           0\n",
      "duration         0\n",
      "listed_in        0\n",
      "description\\r    0\n",
      "dtype: int64\n"
     ]
    }
   ],
   "source": [
    "print(df.isnull().sum())\n"
   ]
  },
  {
   "cell_type": "code",
   "execution_count": 19,
   "id": "275f66a3-98b7-4084-b5e1-0b3df4d9075e",
   "metadata": {},
   "outputs": [],
   "source": [
    "df['date_added'] = pd.to_datetime(df['date_added'], errors='coerce')\n"
   ]
  },
  {
   "cell_type": "code",
   "execution_count": 20,
   "id": "0ece2e32-94a7-4f96-898e-b26c38765c91",
   "metadata": {},
   "outputs": [
    {
     "name": "stdout",
     "output_type": "stream",
     "text": [
      "<class 'pandas.core.frame.DataFrame'>\n",
      "RangeIndex: 6234 entries, 0 to 6233\n",
      "Data columns (total 12 columns):\n",
      " #   Column        Non-Null Count  Dtype         \n",
      "---  ------        --------------  -----         \n",
      " 0   show_id       6234 non-null   int64         \n",
      " 1   type          6234 non-null   object        \n",
      " 2   title         6234 non-null   object        \n",
      " 3   director      6234 non-null   object        \n",
      " 4   cast          6234 non-null   object        \n",
      " 5   country       6234 non-null   object        \n",
      " 6   date_added    5583 non-null   datetime64[ns]\n",
      " 7   release_year  6234 non-null   int64         \n",
      " 8   rating        6234 non-null   object        \n",
      " 9   duration      6234 non-null   object        \n",
      " 10  listed_in     6234 non-null   object        \n",
      "  6234 non-null   object        \n",
      "dtypes: datetime64[ns](1), int64(2), object(9)\n",
      "memory usage: 584.6+ KB\n"
     ]
    }
   ],
   "source": [
    "df.info()"
   ]
  },
  {
   "cell_type": "code",
   "execution_count": 21,
   "id": "19195e9f-c420-4095-a2bf-aba162424475",
   "metadata": {},
   "outputs": [],
   "source": [
    "df.dropna(subset=['date_added'], inplace=True)\n"
   ]
  },
  {
   "cell_type": "code",
   "execution_count": 22,
   "id": "f6de8c2f-9298-42ca-bcd3-76ce6f982da3",
   "metadata": {},
   "outputs": [
    {
     "name": "stdout",
     "output_type": "stream",
     "text": [
      "0\n"
     ]
    }
   ],
   "source": [
    "print(df.duplicated().sum())\n"
   ]
  },
  {
   "cell_type": "code",
   "execution_count": 23,
   "id": "9abe5dc1-e7ed-40d7-9424-d8c3b4f16fdd",
   "metadata": {},
   "outputs": [
    {
     "name": "stdout",
     "output_type": "stream",
     "text": [
      "<class 'pandas.core.frame.DataFrame'>\n",
      "Index: 5583 entries, 0 to 5582\n",
      "Data columns (total 12 columns):\n",
      " #   Column        Non-Null Count  Dtype         \n",
      "---  ------        --------------  -----         \n",
      " 0   show_id       5583 non-null   int64         \n",
      " 1   type          5583 non-null   object        \n",
      " 2   title         5583 non-null   object        \n",
      " 3   director      5583 non-null   object        \n",
      " 4   cast          5583 non-null   object        \n",
      " 5   country       5583 non-null   object        \n",
      " 6   date_added    5583 non-null   datetime64[ns]\n",
      " 7   release_year  5583 non-null   int64         \n",
      " 8   rating        5583 non-null   object        \n",
      " 9   duration      5583 non-null   object        \n",
      " 10  listed_in     5583 non-null   object        \n",
      "  5583 non-null   object        \n",
      "dtypes: datetime64[ns](1), int64(2), object(9)\n",
      "memory usage: 567.0+ KB\n"
     ]
    }
   ],
   "source": [
    "df.info()"
   ]
  },
  {
   "cell_type": "code",
   "execution_count": 24,
   "id": "59dca6a8-0d8e-4f56-98b3-942d5dc634a7",
   "metadata": {},
   "outputs": [
    {
     "name": "stdout",
     "output_type": "stream",
     "text": [
      "True\n"
     ]
    }
   ],
   "source": [
    "print(df['show_id'].is_unique)\n"
   ]
  },
  {
   "cell_type": "code",
   "execution_count": 25,
   "id": "651aab6d-1cea-464a-989c-523b1626609f",
   "metadata": {},
   "outputs": [
    {
     "data": {
      "text/html": [
       "<div>\n",
       "<style scoped>\n",
       "    .dataframe tbody tr th:only-of-type {\n",
       "        vertical-align: middle;\n",
       "    }\n",
       "\n",
       "    .dataframe tbody tr th {\n",
       "        vertical-align: top;\n",
       "    }\n",
       "\n",
       "    .dataframe thead th {\n",
       "        text-align: right;\n",
       "    }\n",
       "</style>\n",
       "<table border=\"1\" class=\"dataframe\">\n",
       "  <thead>\n",
       "    <tr style=\"text-align: right;\">\n",
       "      <th></th>\n",
       "      <th>show_id</th>\n",
       "      <th>date_added</th>\n",
       "      <th>release_year</th>\n",
       "    </tr>\n",
       "  </thead>\n",
       "  <tbody>\n",
       "    <tr>\n",
       "      <th>count</th>\n",
       "      <td>5.583000e+03</td>\n",
       "      <td>5583</td>\n",
       "      <td>5583.000000</td>\n",
       "    </tr>\n",
       "    <tr>\n",
       "      <th>mean</th>\n",
       "      <td>7.657100e+07</td>\n",
       "      <td>2018-06-28 18:18:14.895217664</td>\n",
       "      <td>2013.082572</td>\n",
       "    </tr>\n",
       "    <tr>\n",
       "      <th>min</th>\n",
       "      <td>2.477470e+05</td>\n",
       "      <td>2008-01-01 00:00:00</td>\n",
       "      <td>1925.000000</td>\n",
       "    </tr>\n",
       "    <tr>\n",
       "      <th>25%</th>\n",
       "      <td>8.004225e+07</td>\n",
       "      <td>2017-09-29 00:00:00</td>\n",
       "      <td>2013.000000</td>\n",
       "    </tr>\n",
       "    <tr>\n",
       "      <th>50%</th>\n",
       "      <td>8.017168e+07</td>\n",
       "      <td>2018-09-15 00:00:00</td>\n",
       "      <td>2016.000000</td>\n",
       "    </tr>\n",
       "    <tr>\n",
       "      <th>75%</th>\n",
       "      <td>8.099328e+07</td>\n",
       "      <td>2019-06-04 12:00:00</td>\n",
       "      <td>2018.000000</td>\n",
       "    </tr>\n",
       "    <tr>\n",
       "      <th>max</th>\n",
       "      <td>8.123573e+07</td>\n",
       "      <td>2020-01-18 00:00:00</td>\n",
       "      <td>2020.000000</td>\n",
       "    </tr>\n",
       "    <tr>\n",
       "      <th>std</th>\n",
       "      <td>1.146217e+07</td>\n",
       "      <td>NaN</td>\n",
       "      <td>9.037215</td>\n",
       "    </tr>\n",
       "  </tbody>\n",
       "</table>\n",
       "</div>"
      ],
      "text/plain": [
       "            show_id                     date_added  release_year\n",
       "count  5.583000e+03                           5583   5583.000000\n",
       "mean   7.657100e+07  2018-06-28 18:18:14.895217664   2013.082572\n",
       "min    2.477470e+05            2008-01-01 00:00:00   1925.000000\n",
       "25%    8.004225e+07            2017-09-29 00:00:00   2013.000000\n",
       "50%    8.017168e+07            2018-09-15 00:00:00   2016.000000\n",
       "75%    8.099328e+07            2019-06-04 12:00:00   2018.000000\n",
       "max    8.123573e+07            2020-01-18 00:00:00   2020.000000\n",
       "std    1.146217e+07                            NaN      9.037215"
      ]
     },
     "execution_count": 25,
     "metadata": {},
     "output_type": "execute_result"
    }
   ],
   "source": [
    "df.describe()"
   ]
  },
  {
   "cell_type": "code",
   "execution_count": 28,
   "id": "65598792-695f-436d-badb-b411ee2bed8a",
   "metadata": {},
   "outputs": [],
   "source": [
    "# Make sure 'year_added' column hai aur clean hai\n",
    "df['year_added'] = df['date_added'].dt.year\n",
    "df = df.dropna(subset=['year_added'])"
   ]
  },
  {
   "cell_type": "code",
   "execution_count": 30,
   "id": "888bb04e-3e81-47b2-9207-595002578a1f",
   "metadata": {},
   "outputs": [
    {
     "data": {
      "image/png": "[encoded data removed]",
      "text/plain": [
       "<Figure size 1200x600 with 1 Axes>"
      ]
     },
     "metadata": {},
     "output_type": "display_data"
    }
   ],
   "source": [
    "# Step 6: Basic EDA - year-wise content count plot\n",
    "plt.figure(figsize=(12,6))\n",
    "sns.countplot(data=df, x='year_added')\n",
    "plt.title('Number of Netflix Titles Added Each Year')\n",
    "plt.xlabel('Year Added')\n",
    "plt.ylabel('Count')\n",
    "plt.xticks(rotation=45)\n",
    "plt.show()\n"
   ]
  },
  {
   "cell_type": "code",
   "execution_count": 32,
   "id": "c6b0bac6-6907-4f76-9c69-1a7ad10f8962",
   "metadata": {},
   "outputs": [
    {
     "data": {
      "image/png": "[encoded data removed]",
      "text/plain": [
       "<Figure size 600x400 with 1 Axes>"
      ]
     },
     "metadata": {},
     "output_type": "display_data"
    }
   ],
   "source": [
    "# Step 8: Movie vs TV Show Count\n",
    "plt.figure(figsize=(6,4))\n",
    "sns.countplot(data=df, x='type')\n",
    "plt.title('Count of Movies vs TV Shows on Netflix')\n",
    "plt.show()"
   ]
  },
  {
   "cell_type": "code",
   "execution_count": 33,
   "id": "3b1ce2f0-b3a6-4d68-8e1e-ef2b6c7878aa",
   "metadata": {},
   "outputs": [
    {
     "data": {
      "image/png": "[encoded data removed]",
      "text/plain": [
       "<Figure size 1200x600 with 1 Axes>"
      ]
     },
     "metadata": {},
     "output_type": "display_data"
    }
   ],
   "source": [
    "# Step 9: Release Year Distribution\n",
    "plt.figure(figsize=(12,6))\n",
    "sns.histplot(df['release_year'], bins=30, kde=True, color='purple')\n",
    "plt.title('Distribution of Release Years of Netflix Titles')\n",
    "plt.xlabel('Release Year')\n",
    "plt.ylabel('Number of Titles')\n",
    "plt.show()\n"
   ]
  },
  {
   "cell_type": "code",
   "execution_count": 35,
   "id": "49afbd20-f646-46da-88ce-71cda4dc39f2",
   "metadata": {},
   "outputs": [],
   "source": [
    "genres = df['listed_in'].str.split(', ').explode()\n"
   ]
  },
  {
   "cell_type": "code",
   "execution_count": 36,
   "id": "31251661-bb56-4c5a-a800-b8004f2290ac",
   "metadata": {},
   "outputs": [
    {
     "name": "stdout",
     "output_type": "stream",
     "text": [
      "Most common genres:\n",
      " listed_in\n",
      "International Movies        1927\n",
      "Dramas                      1623\n",
      "Comedies                    1113\n",
      "International TV Shows       793\n",
      "Documentaries                668\n",
      "Action & Adventure           597\n",
      "Independent Movies           552\n",
      "TV Dramas                    414\n",
      "Thrillers                    392\n",
      "Children & Family Movies     378\n",
      "Name: count, dtype: int64\n"
     ]
    }
   ],
   "source": [
    "print(\"Most common genres:\\n\", genres.value_counts().head(10))\n"
   ]
  },
  {
   "cell_type": "code",
   "execution_count": 37,
   "id": "0a45858d-9aa3-4500-9711-ad0ae9ee9cca",
   "metadata": {},
   "outputs": [],
   "source": [
    "# Split genres and explode\n",
    "genres = df['listed_in'].str.split(', ').explode()"
   ]
  },
  {
   "cell_type": "code",
   "execution_count": 38,
   "id": "eab7ab20-5801-4672-b86d-82a76cb30b22",
   "metadata": {},
   "outputs": [
    {
     "name": "stdout",
     "output_type": "stream",
     "text": [
      "Most common genres:\n",
      " listed_in\n",
      "International Movies        1927\n",
      "Dramas                      1623\n",
      "Comedies                    1113\n",
      "International TV Shows       793\n",
      "Documentaries                668\n",
      "Action & Adventure           597\n",
      "Independent Movies           552\n",
      "TV Dramas                    414\n",
      "Thrillers                    392\n",
      "Children & Family Movies     378\n",
      "Name: count, dtype: int64\n"
     ]
    }
   ],
   "source": [
    "# Fir print karo top genres\n",
    "print(\"Most common genres:\\n\", genres.value_counts().head(10))"
   ]
  },
  {
   "cell_type": "code",
   "execution_count": 39,
   "id": "6ce20a95-a2e1-453a-85b6-d9e294f4a65d",
   "metadata": {},
   "outputs": [
    {
     "name": "stdout",
     "output_type": "stream",
     "text": [
      "Total Titles after cleaning: 5583\n",
      "Range of years added to Netflix: 2008 to 2020\n",
      "Most common genres:\n",
      " listed_in\n",
      "International Movies        1927\n",
      "Dramas                      1623\n",
      "Comedies                    1113\n",
      "International TV Shows       793\n",
      "Documentaries                668\n",
      "Action & Adventure           597\n",
      "Independent Movies           552\n",
      "TV Dramas                    414\n",
      "Thrillers                    392\n",
      "Children & Family Movies     378\n",
      "Name: count, dtype: int64\n",
      "Number of Movies vs TV Shows:\n",
      " type\n",
      "Movie      4264\n",
      "TV Show    1319\n",
      "Name: count, dtype: int64\n"
     ]
    }
   ],
   "source": [
    "# Step 10: Insights Print karo\n",
    "print(\"Total Titles after cleaning:\", len(df))\n",
    "print(\"Range of years added to Netflix:\", df['year_added'].min(), \"to\", df['year_added'].max())\n",
    "print(\"Most common genres:\\n\", genres.value_counts().head(10))\n",
    "print(\"Number of Movies vs TV Shows:\\n\", df['type'].value_counts())"
   ]
  },
  {
   "cell_type": "code",
   "execution_count": null,
   "id": "1c3bd0e0-a5a0-4320-b51e-ad078843bb70",
   "metadata": {},
   "outputs": [],
   "source": []
  }
 ],
 "metadata": {
  "kernelspec": {
   "display_name": "Python 3 (ipykernel)",
   "language": "python",
   "name": "python3"
  },
  "language_info": {
   "codemirror_mode": {
    "name": "ipython",
    "version": 3
   },
   "file_extension": ".py",
   "mimetype": "text/x-python",
   "name": "python",
   "nbconvert_exporter": "python",
   "pygments_lexer": "ipython3",
   "version": "3.13.5"
  }
 },
 "nbformat": 4,
 "nbformat_minor": 5
}
